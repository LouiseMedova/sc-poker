{
 "cells": [
  {
   "cell_type": "markdown",
   "metadata": {},
   "source": [
    "# Compute Field Parameters\n",
    "\n",
    "SageMath notebook to compute the field parameters to implement traits `ark_ff::fields::FpParameters` and `ark_ff::fields::FftParameters`\n",
    "\n",
    "Run using SageMath 9.0 (warning: will fail in python)"
   ]
  },
  {
   "cell_type": "code",
   "execution_count": 1,
   "metadata": {},
   "outputs": [],
   "source": [
    "def to_bytes_hex_string(parameter, block_size = 16):\n",
    "    hex_representation = str(hex(parameter)).split('x')[-1]\n",
    "    padded = hex_representation.rjust(64, '0')\n",
    "    output = '0x{}, 0x{}, 0x{}, 0x{},'.format(padded[48:64], padded[32:48], padded[16:32], padded[0:16])\n",
    "    return output"
   ]
  },
  {
   "cell_type": "code",
   "execution_count": 2,
   "metadata": {},
   "outputs": [],
   "source": [
    "def square_mult_reduce(base, power, modulo):\n",
    "    power_string = str(bin(power)).split('b')[-1]\n",
    "    number_of_rounds = len(power_string)\n",
    "    result = base\n",
    "    for i in range(1, number_of_rounds):\n",
    "        result = result ** 2 % modulo\n",
    "        if power_string[i] == '1':\n",
    "            result = result * base % modulo\n",
    "            \n",
    "    return result"
   ]
  },
  {
   "cell_type": "code",
   "execution_count": 6,
   "metadata": {},
   "outputs": [],
   "source": [
    "def compute_t_s(modulus):\n",
    "    T = modulus - 1\n",
    "    S = 0\n",
    "    while T%2==0:\n",
    "        S = S+1\n",
    "        T = T/2 \n",
    "    return T, S"
   ]
  },
  {
   "cell_type": "code",
   "execution_count": 13,
   "metadata": {},
   "outputs": [],
   "source": [
    "def compute_fp_parameters(modulus, generator, closest_two_power_64=256):\n",
    "    parameters = {'MODULUS': modulus}\n",
    "    parameters['MODULUS_BITS'] = len(str(bin(modulus)).split('b')[-1])\n",
    "    R = 2**closest_two_power_64 % modulus\n",
    "    parameters['R'] = R\n",
    "    parameters['R2'] = (2**closest_two_power_64)**2 % modulus\n",
    "    parameters['MODULUS_MINUS_ONE_DIV_TWO'] = (modulus - 1)/2\n",
    "    T, S = compute_t_s(modulus)\n",
    "    parameters['T'] = T\n",
    "    parameters['T_MINUS_ONE_DIV_TWO'] = (T - 1)/2\n",
    "    parameters['GENERATOR'] = generator*R % modulus\n",
    "    parameters['INV'] = -modulus**(-1) % 2**64\n",
    "    parameters['TWO_ADICITY'] = S\n",
    "    parameters['TWO_ADIC_ROOT_OF_UNITY'] = square_mult_reduce(generator, T, modulus)*R % modulus\n",
    "    \n",
    "    return parameters"
   ]
  },
  {
   "cell_type": "code",
   "execution_count": 14,
   "metadata": {},
   "outputs": [
    {
     "data": {
      "text/plain": [
       "{'MODULUS': 3618502788666131213697322783095070105623107215331596699973092056135872020481,\n",
       " 'MODULUS_BITS': 252,\n",
       " 'R': 3618502788666127798953978732740734578953660990361066340291730267701097005025,\n",
       " 'R2': 3618203731877326472068475314175255648288435919629678774199199170643399541761,\n",
       " 'MODULUS_MINUS_ONE_DIV_TWO': 1809251394333065606848661391547535052811553607665798349986546028067936010240,\n",
       " 'T': 576460752303423505,\n",
       " 'T_MINUS_ONE_DIV_TWO': 288230376151711752,\n",
       " 'GENERATOR': 3618502788666120969467290632032063525614768540420005620929006690831546974113,\n",
       " 'INV': 18446744073709551615,\n",
       " 'TWO_ADICITY': 192,\n",
       " 'TWO_ADIC_ROOT_OF_UNITY': 3226581589306417752488187218501353947335076990068651027982507683041266286040}"
      ]
     },
     "execution_count": 14,
     "metadata": {},
     "output_type": "execute_result"
    }
   ],
   "source": [
    "base_field_parameters = compute_fp_parameters(2**251 + 17 * 2**192 + 1, 3); base_field_parameters"
   ]
  },
  {
   "cell_type": "code",
   "execution_count": 17,
   "metadata": {},
   "outputs": [
    {
     "data": {
      "text/plain": [
       "{'MODULUS': 3618502788666131213697322783095070105526743751716087489154079457884512865583,\n",
       " 'MODULUS_BITS': 252,\n",
       " 'R': 3618502788666127798953978732740734581940928362441851875681120813493230806863,\n",
       " 'R2': 3551179599793676589179020395559770927735842444383898408469482222901708744845,\n",
       " 'MODULUS_MINUS_ONE_DIV_TWO': 1809251394333065606848661391547535052763371875858043744577039728942256432791,\n",
       " 'T': 1809251394333065606848661391547535052763371875858043744577039728942256432791,\n",
       " 'T_MINUS_ONE_DIV_TWO': 904625697166532803424330695773767526381685937929021872288519864471128216395,\n",
       " 'GENERATOR': 3618502788666120969467290632032063534769297583893380648735203524710666689423,\n",
       " 'INV': 13504954208620504625,\n",
       " 'TWO_ADICITY': 1,\n",
       " 'TWO_ADIC_ROOT_OF_UNITY': 3414743344050354335523585815389274235613472958644391282058720}"
      ]
     },
     "execution_count": 17,
     "metadata": {},
     "output_type": "execute_result"
    }
   ],
   "source": [
    "EC_GROUP_ORDER = 3618502788666131213697322783095070105526743751716087489154079457884512865583 #EC group order, see StarkNet doc\n",
    "scalar_field_parameters = compute_fp_parameters(EC_GROUP_ORDER, 3); scalar_field_parameters"
   ]
  },
  {
   "cell_type": "code",
   "execution_count": null,
   "metadata": {},
   "outputs": [],
   "source": []
  },
  {
   "cell_type": "code",
   "execution_count": null,
   "metadata": {},
   "outputs": [],
   "source": []
  }
 ],
 "metadata": {
  "kernelspec": {
   "display_name": "SageMath 9.0",
   "language": "sage",
   "name": "sagemath"
  },
  "language_info": {
   "codemirror_mode": {
    "name": "ipython",
    "version": 3
   },
   "file_extension": ".py",
   "mimetype": "text/x-python",
   "name": "python",
   "nbconvert_exporter": "python",
   "pygments_lexer": "ipython3",
   "version": "3.8.10"
  }
 },
 "nbformat": 4,
 "nbformat_minor": 4
}
